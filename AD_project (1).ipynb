{
 "cells": [
  {
   "cell_type": "code",
   "execution_count": 1,
   "metadata": {
    "id": "b_VXe_N5tcLp"
   },
   "outputs": [],
   "source": [
    "import pandas as pd\n",
    "import numpy as np\n",
    "import matplotlib.pyplot as plt\n",
    "import seaborn as sns\n",
    "import statsmodels.formula.api as smf\n",
    "from statsmodels.graphics.regressionplots import influence_plot"
   ]
  },
  {
   "cell_type": "code",
   "execution_count": 2,
   "metadata": {
    "colab": {
     "base_uri": "https://localhost:8080/"
    },
    "id": "ImvXiESRHpqX",
    "outputId": "af6af3c8-b738-43d5-bc96-fb1d5c17102d"
   },
   "outputs": [
    {
     "name": "stdout",
     "output_type": "stream",
     "text": [
      "           UserId  ProductId  Rating   Timestamp\n",
      "0  A39HTATAQ9V7YF  205616461       5  1369699200\n",
      "1  A3JM6GV9MNOF9X  558925278       3  1355443200\n",
      "2  A1Z513UWSAAO0F  558925278       5  1404691200\n",
      "3  A1WMRR494NWEWV  733001998       4  1382572800\n",
      "4  A3IAAVS479H7M7  737104473       1  1274227200\n",
      "<class 'pandas.core.frame.DataFrame'>\n",
      "RangeIndex: 1048575 entries, 0 to 1048574\n",
      "Data columns (total 4 columns):\n",
      " #   Column     Non-Null Count    Dtype \n",
      "---  ------     --------------    ----- \n",
      " 0   UserId     1048575 non-null  object\n",
      " 1   ProductId  1048575 non-null  object\n",
      " 2   Rating     1048575 non-null  int64 \n",
      " 3   Timestamp  1048575 non-null  int64 \n",
      "dtypes: int64(2), object(2)\n",
      "memory usage: 32.0+ MB\n",
      "None\n"
     ]
    }
   ],
   "source": [
    "import pandas as pd\n",
    "\n",
    "file_path = \"Amazon Beauty Recommendation system.csv\"  # Use the exact file name\n",
    "df = pd.read_csv(file_path)\n",
    "\n",
    "# Check if the file loaded correctly\n",
    "print(df.head())\n",
    "print(df.info())\n"
   ]
  },
  {
   "cell_type": "code",
   "execution_count": 3,
   "metadata": {
    "colab": {
     "base_uri": "https://localhost:8080/"
    },
    "id": "X20_zbPE64ka",
    "outputId": "551ba6d3-bf71-4f29-ecb0-f0e35faed293"
   },
   "outputs": [
    {
     "name": "stdout",
     "output_type": "stream",
     "text": [
      "<class 'pandas.core.frame.DataFrame'>\n",
      "RangeIndex: 1048575 entries, 0 to 1048574\n",
      "Data columns (total 4 columns):\n",
      " #   Column     Non-Null Count    Dtype \n",
      "---  ------     --------------    ----- \n",
      " 0   UserId     1048575 non-null  object\n",
      " 1   ProductId  1048575 non-null  object\n",
      " 2   Rating     1048575 non-null  int64 \n",
      " 3   Timestamp  1048575 non-null  int64 \n",
      "dtypes: int64(2), object(2)\n",
      "memory usage: 32.0+ MB\n"
     ]
    }
   ],
   "source": [
    "df.info()"
   ]
  },
  {
   "cell_type": "code",
   "execution_count": 4,
   "metadata": {
    "colab": {
     "base_uri": "https://localhost:8080/",
     "height": 206
    },
    "id": "j_nPpuDZ6_i1",
    "outputId": "f47114f4-2452-4107-80b4-69de2b0697c3"
   },
   "outputs": [
    {
     "data": {
      "text/html": [
       "<div>\n",
       "<style scoped>\n",
       "    .dataframe tbody tr th:only-of-type {\n",
       "        vertical-align: middle;\n",
       "    }\n",
       "\n",
       "    .dataframe tbody tr th {\n",
       "        vertical-align: top;\n",
       "    }\n",
       "\n",
       "    .dataframe thead th {\n",
       "        text-align: right;\n",
       "    }\n",
       "</style>\n",
       "<table border=\"1\" class=\"dataframe\">\n",
       "  <thead>\n",
       "    <tr style=\"text-align: right;\">\n",
       "      <th></th>\n",
       "      <th>UserId</th>\n",
       "      <th>ProductId</th>\n",
       "      <th>Rating</th>\n",
       "      <th>Timestamp</th>\n",
       "    </tr>\n",
       "  </thead>\n",
       "  <tbody>\n",
       "    <tr>\n",
       "      <th>0</th>\n",
       "      <td>A39HTATAQ9V7YF</td>\n",
       "      <td>205616461</td>\n",
       "      <td>5</td>\n",
       "      <td>1369699200</td>\n",
       "    </tr>\n",
       "    <tr>\n",
       "      <th>1</th>\n",
       "      <td>A3JM6GV9MNOF9X</td>\n",
       "      <td>558925278</td>\n",
       "      <td>3</td>\n",
       "      <td>1355443200</td>\n",
       "    </tr>\n",
       "    <tr>\n",
       "      <th>2</th>\n",
       "      <td>A1Z513UWSAAO0F</td>\n",
       "      <td>558925278</td>\n",
       "      <td>5</td>\n",
       "      <td>1404691200</td>\n",
       "    </tr>\n",
       "    <tr>\n",
       "      <th>3</th>\n",
       "      <td>A1WMRR494NWEWV</td>\n",
       "      <td>733001998</td>\n",
       "      <td>4</td>\n",
       "      <td>1382572800</td>\n",
       "    </tr>\n",
       "    <tr>\n",
       "      <th>4</th>\n",
       "      <td>A3IAAVS479H7M7</td>\n",
       "      <td>737104473</td>\n",
       "      <td>1</td>\n",
       "      <td>1274227200</td>\n",
       "    </tr>\n",
       "  </tbody>\n",
       "</table>\n",
       "</div>"
      ],
      "text/plain": [
       "           UserId  ProductId  Rating   Timestamp\n",
       "0  A39HTATAQ9V7YF  205616461       5  1369699200\n",
       "1  A3JM6GV9MNOF9X  558925278       3  1355443200\n",
       "2  A1Z513UWSAAO0F  558925278       5  1404691200\n",
       "3  A1WMRR494NWEWV  733001998       4  1382572800\n",
       "4  A3IAAVS479H7M7  737104473       1  1274227200"
      ]
     },
     "execution_count": 4,
     "metadata": {},
     "output_type": "execute_result"
    }
   ],
   "source": [
    "df.head()"
   ]
  },
  {
   "cell_type": "code",
   "execution_count": 5,
   "metadata": {
    "colab": {
     "base_uri": "https://localhost:8080/",
     "height": 300
    },
    "id": "WZO5a0nq7JPE",
    "outputId": "cd401872-5d38-4c22-b83f-2c8f8b4bf2fa"
   },
   "outputs": [
    {
     "data": {
      "text/html": [
       "<div>\n",
       "<style scoped>\n",
       "    .dataframe tbody tr th:only-of-type {\n",
       "        vertical-align: middle;\n",
       "    }\n",
       "\n",
       "    .dataframe tbody tr th {\n",
       "        vertical-align: top;\n",
       "    }\n",
       "\n",
       "    .dataframe thead th {\n",
       "        text-align: right;\n",
       "    }\n",
       "</style>\n",
       "<table border=\"1\" class=\"dataframe\">\n",
       "  <thead>\n",
       "    <tr style=\"text-align: right;\">\n",
       "      <th></th>\n",
       "      <th>Rating</th>\n",
       "      <th>Timestamp</th>\n",
       "    </tr>\n",
       "  </thead>\n",
       "  <tbody>\n",
       "    <tr>\n",
       "      <th>count</th>\n",
       "      <td>1.048575e+06</td>\n",
       "      <td>1.048575e+06</td>\n",
       "    </tr>\n",
       "    <tr>\n",
       "      <th>mean</th>\n",
       "      <td>4.176864e+00</td>\n",
       "      <td>1.345636e+09</td>\n",
       "    </tr>\n",
       "    <tr>\n",
       "      <th>std</th>\n",
       "      <td>1.306543e+00</td>\n",
       "      <td>5.567113e+07</td>\n",
       "    </tr>\n",
       "    <tr>\n",
       "      <th>min</th>\n",
       "      <td>1.000000e+00</td>\n",
       "      <td>9.087552e+08</td>\n",
       "    </tr>\n",
       "    <tr>\n",
       "      <th>25%</th>\n",
       "      <td>4.000000e+00</td>\n",
       "      <td>1.322438e+09</td>\n",
       "    </tr>\n",
       "    <tr>\n",
       "      <th>50%</th>\n",
       "      <td>5.000000e+00</td>\n",
       "      <td>1.362960e+09</td>\n",
       "    </tr>\n",
       "    <tr>\n",
       "      <th>75%</th>\n",
       "      <td>5.000000e+00</td>\n",
       "      <td>1.385856e+09</td>\n",
       "    </tr>\n",
       "    <tr>\n",
       "      <th>max</th>\n",
       "      <td>5.000000e+00</td>\n",
       "      <td>1.406074e+09</td>\n",
       "    </tr>\n",
       "  </tbody>\n",
       "</table>\n",
       "</div>"
      ],
      "text/plain": [
       "             Rating     Timestamp\n",
       "count  1.048575e+06  1.048575e+06\n",
       "mean   4.176864e+00  1.345636e+09\n",
       "std    1.306543e+00  5.567113e+07\n",
       "min    1.000000e+00  9.087552e+08\n",
       "25%    4.000000e+00  1.322438e+09\n",
       "50%    5.000000e+00  1.362960e+09\n",
       "75%    5.000000e+00  1.385856e+09\n",
       "max    5.000000e+00  1.406074e+09"
      ]
     },
     "execution_count": 5,
     "metadata": {},
     "output_type": "execute_result"
    }
   ],
   "source": [
    "df.describe()"
   ]
  },
  {
   "cell_type": "code",
   "execution_count": 6,
   "metadata": {
    "colab": {
     "base_uri": "https://localhost:8080/"
    },
    "id": "Tz9KzsNe7R3p",
    "outputId": "8d897e65-35ee-43f1-925a-3bcc31e09b55"
   },
   "outputs": [
    {
     "data": {
      "text/plain": [
       "4194300"
      ]
     },
     "execution_count": 6,
     "metadata": {},
     "output_type": "execute_result"
    }
   ],
   "source": [
    "df.size"
   ]
  },
  {
   "cell_type": "code",
   "execution_count": 7,
   "metadata": {
    "colab": {
     "base_uri": "https://localhost:8080/"
    },
    "id": "kdUmmrQUub7k",
    "outputId": "b2985eed-2c73-46a8-9172-ee4e1624c797"
   },
   "outputs": [
    {
     "name": "stdout",
     "output_type": "stream",
     "text": [
      "Unique Users: 736653\n",
      "Unique Products: 97987\n"
     ]
    }
   ],
   "source": [
    "unique_users = df[\"UserId\"].nunique()\n",
    "unique_products = df[\"ProductId\"].nunique()\n",
    "\n",
    "print(f\"Unique Users: {unique_users}\")\n",
    "print(f\"Unique Products: {unique_products}\")\n"
   ]
  },
  {
   "cell_type": "code",
   "execution_count": 8,
   "metadata": {
    "colab": {
     "base_uri": "https://localhost:8080/"
    },
    "id": "wGgYMDuWulFe",
    "outputId": "1f8da821-f8be-4d26-e603-6b9bb258e42c"
   },
   "outputs": [
    {
     "name": "stdout",
     "output_type": "stream",
     "text": [
      "Top Repeated Users:\n",
      " UserId\n",
      "A3M174IC0VXOS2    278\n",
      "A281NPSIMI1C2R    245\n",
      "A1RRMZKOMZ2M7J    200\n",
      "A3KEZLJ59C1JVH    178\n",
      "A2V5R832QCSOMX    173\n",
      "Name: count, dtype: int64\n",
      "Top Repeated Products:\n",
      " ProductId\n",
      "B001MA0QY2    7533\n",
      "B0009V1YR8    2869\n",
      "B0000YUXI0    2143\n",
      "B000ZMBSPE    2041\n",
      "B003BQ6QXK    1918\n",
      "Name: count, dtype: int64\n"
     ]
    }
   ],
   "source": [
    "user_counts = df[\"UserId\"].value_counts()\n",
    "product_counts = df[\"ProductId\"].value_counts()\n",
    "\n",
    "print(\"Top Repeated Users:\\n\", user_counts.head())\n",
    "print(\"Top Repeated Products:\\n\", product_counts.head())\n"
   ]
  },
  {
   "cell_type": "code",
   "execution_count": 9,
   "metadata": {
    "colab": {
     "base_uri": "https://localhost:8080/"
    },
    "id": "BiCbWyg790jE",
    "outputId": "fa9e1da6-7bf5-472c-d6ae-97e37bf87a2e"
   },
   "outputs": [
    {
     "name": "stdout",
     "output_type": "stream",
     "text": [
      "Sparse matrix shape: (736653, 97987)\n"
     ]
    }
   ],
   "source": [
    "import pandas as pd\n",
    "from scipy.sparse import csr_matrix\n",
    "\n",
    "# Load dataset\n",
    "df = pd.read_csv('Amazon Beauty Recommendation system.csv')\n",
    "\n",
    "# Convert categorical IDs to numerical indices (helps with memory efficiency)\n",
    "user_map = {user: idx for idx, user in enumerate(df['UserId'].unique())}\n",
    "product_map = {product: idx for idx, product in enumerate(df['ProductId'].unique())}\n",
    "\n",
    "df['UserId'] = df['UserId'].map(user_map)\n",
    "df['ProductId'] = df['ProductId'].map(product_map)\n",
    "\n",
    "# Create sparse pivot table\n",
    "sparse_pivot = csr_matrix(\n",
    "    (df['Rating'], (df['UserId'], df['ProductId']))\n",
    ")\n",
    "\n",
    "print(\"Sparse matrix shape:\", sparse_pivot.shape)\n"
   ]
  },
  {
   "cell_type": "code",
   "execution_count": 10,
   "metadata": {
    "colab": {
     "base_uri": "https://localhost:8080/"
    },
    "id": "hFpH53_aIOkT",
    "outputId": "6cf84589-be95-45f6-8a01-9d2a7a3577a8"
   },
   "outputs": [
    {
     "name": "stdout",
     "output_type": "stream",
     "text": [
      "ProductId              9746427962  9790778309  9790790961  B00004TMFE  \\\n",
      "UserId                                                                  \n",
      "A02155413BVL8D0G7X6DN         0.0         0.0         0.0         0.0   \n",
      "A03364251DGXSGA9PSR99         0.0         0.0         0.0         0.0   \n",
      "A100WO06OQR8BQ                0.0         0.0         0.0         0.0   \n",
      "A1010QRG4BH51B                0.0         0.0         0.0         0.0   \n",
      "A101NJYKW882Y0                0.0         0.0         0.0         0.0   \n",
      "\n",
      "ProductId              B00004TUBL  B00004TUBV  B00004U9UY  B00004U9V2  \\\n",
      "UserId                                                                  \n",
      "A02155413BVL8D0G7X6DN         0.0         0.0         0.0         0.0   \n",
      "A03364251DGXSGA9PSR99         0.0         0.0         0.0         0.0   \n",
      "A100WO06OQR8BQ                0.0         0.0         0.0         0.0   \n",
      "A1010QRG4BH51B                0.0         0.0         0.0         0.0   \n",
      "A101NJYKW882Y0                0.0         0.0         0.0         0.0   \n",
      "\n",
      "ProductId              B000050B6U  B000050B75  ...  B003H1HCIM  B003H25J86  \\\n",
      "UserId                                         ...                           \n",
      "A02155413BVL8D0G7X6DN         0.0         0.0  ...         0.0         0.0   \n",
      "A03364251DGXSGA9PSR99         0.0         0.0  ...         0.0         0.0   \n",
      "A100WO06OQR8BQ                0.0         0.0  ...         0.0         0.0   \n",
      "A1010QRG4BH51B                0.0         0.0  ...         0.0         0.0   \n",
      "A101NJYKW882Y0                0.0         0.0  ...         0.0         0.0   \n",
      "\n",
      "ProductId              B003H2MR2W  B003H3KLLA  B003H60F3G  B003H6C764  \\\n",
      "UserId                                                                  \n",
      "A02155413BVL8D0G7X6DN         0.0         0.0         0.0         0.0   \n",
      "A03364251DGXSGA9PSR99         0.0         0.0         0.0         0.0   \n",
      "A100WO06OQR8BQ                0.0         0.0         0.0         0.0   \n",
      "A1010QRG4BH51B                0.0         0.0         0.0         0.0   \n",
      "A101NJYKW882Y0                0.0         0.0         0.0         0.0   \n",
      "\n",
      "ProductId              B003H8180I  B003H83U36  B003H87S0C  B003H897AQ  \n",
      "UserId                                                                 \n",
      "A02155413BVL8D0G7X6DN         0.0         0.0         0.0         0.0  \n",
      "A03364251DGXSGA9PSR99         0.0         0.0         0.0         0.0  \n",
      "A100WO06OQR8BQ                0.0         0.0         0.0         0.0  \n",
      "A1010QRG4BH51B                0.0         0.0         0.0         0.0  \n",
      "A101NJYKW882Y0                0.0         0.0         0.0         0.0  \n",
      "\n",
      "[5 rows x 4627 columns]\n"
     ]
    }
   ],
   "source": [
    "import pandas as pd\n",
    "\n",
    "# Load the dataset\n",
    "file_path = \"Amazon Beauty Recommendation system.csv\"  # Adjust if renamed\n",
    "df = pd.read_csv(file_path)\n",
    "\n",
    "# Reduce dataset size by filtering popular products and active users\n",
    "popular_products = df['ProductId'].value_counts().nlargest(5000).index  # Top 5000 products\n",
    "active_users = df['UserId'].value_counts().nlargest(5000).index  # Top 5000 users\n",
    "\n",
    "df_filtered = df[df['ProductId'].isin(popular_products) & df['UserId'].isin(active_users)]\n",
    "\n",
    "# Generate pivot table\n",
    "pivot_table = df_filtered.pivot_table(index='UserId', columns='ProductId', values='Rating', aggfunc='mean', fill_value=0)\n",
    "\n",
    "# Display pivot table sample\n",
    "print(pivot_table.head())\n"
   ]
  },
  {
   "cell_type": "code",
   "execution_count": 11,
   "metadata": {
    "colab": {
     "base_uri": "https://localhost:8080/"
    },
    "id": "JPb9DqCQIZey",
    "outputId": "f22b3cdd-3f5c-4a95-e4f3-f16f8492027f"
   },
   "outputs": [
    {
     "name": "stdout",
     "output_type": "stream",
     "text": [
      "UserId                 A02155413BVL8D0G7X6DN  A03364251DGXSGA9PSR99  \\\n",
      "UserId                                                                \n",
      "A02155413BVL8D0G7X6DN                    1.0                    0.0   \n",
      "A03364251DGXSGA9PSR99                    0.0                    1.0   \n",
      "A100WO06OQR8BQ                           0.0                    0.0   \n",
      "A1010QRG4BH51B                           0.0                    0.0   \n",
      "A101NJYKW882Y0                           0.0                    0.0   \n",
      "\n",
      "UserId                 A100WO06OQR8BQ  A1010QRG4BH51B  A101NJYKW882Y0  \\\n",
      "UserId                                                                  \n",
      "A02155413BVL8D0G7X6DN             0.0             0.0             0.0   \n",
      "A03364251DGXSGA9PSR99             0.0             0.0             0.0   \n",
      "A100WO06OQR8BQ                    1.0             0.0             0.0   \n",
      "A1010QRG4BH51B                    0.0             1.0             0.0   \n",
      "A101NJYKW882Y0                    0.0             0.0             1.0   \n",
      "\n",
      "UserId                 A102JNFLL0KW7I  A103BJIOJSDJL1  A103ZVTCQUF348  \\\n",
      "UserId                                                                  \n",
      "A02155413BVL8D0G7X6DN             0.0             0.0             0.0   \n",
      "A03364251DGXSGA9PSR99             0.0             0.0             0.0   \n",
      "A100WO06OQR8BQ                    0.0             0.0             0.0   \n",
      "A1010QRG4BH51B                    0.0             0.0             0.0   \n",
      "A101NJYKW882Y0                    0.0             0.0             0.0   \n",
      "\n",
      "UserId                 A1047EDJ84IMAS  A104BMR0QRIDSZ  ...  AZN28ZLXYIJDE  \\\n",
      "UserId                                                 ...                  \n",
      "A02155413BVL8D0G7X6DN             0.0             0.0  ...            0.0   \n",
      "A03364251DGXSGA9PSR99             0.0             0.0  ...            0.0   \n",
      "A100WO06OQR8BQ                    0.0             0.0  ...            0.0   \n",
      "A1010QRG4BH51B                    0.0             0.0  ...            0.0   \n",
      "A101NJYKW882Y0                    0.0             0.0  ...            0.0   \n",
      "\n",
      "UserId                 AZNNIVT2R0W0L  AZOO27I3Z0IQO  AZR4DVSW2NOOA  \\\n",
      "UserId                                                               \n",
      "A02155413BVL8D0G7X6DN            0.0            0.0            0.0   \n",
      "A03364251DGXSGA9PSR99            0.0            0.0            0.0   \n",
      "A100WO06OQR8BQ                   0.0            0.0            0.0   \n",
      "A1010QRG4BH51B                   0.0            0.0            0.0   \n",
      "A101NJYKW882Y0                   0.0            0.0            0.0   \n",
      "\n",
      "UserId                 AZSWYOYUCD81E  AZTZ7SIIRXLXE  AZV2AG96CRJ26  \\\n",
      "UserId                                                               \n",
      "A02155413BVL8D0G7X6DN            0.0            0.0            0.0   \n",
      "A03364251DGXSGA9PSR99            0.0            0.0            0.0   \n",
      "A100WO06OQR8BQ                   0.0            0.0            0.0   \n",
      "A1010QRG4BH51B                   0.0            0.0            0.0   \n",
      "A101NJYKW882Y0                   0.0            0.0            0.0   \n",
      "\n",
      "UserId                 AZW9UD7Z7J0WL  AZX1JTTIUYZX4  AZZT1ERHBSNQ8  \n",
      "UserId                                                              \n",
      "A02155413BVL8D0G7X6DN            0.0            0.0            0.0  \n",
      "A03364251DGXSGA9PSR99            0.0            0.0            0.0  \n",
      "A100WO06OQR8BQ                   0.0            0.0            0.0  \n",
      "A1010QRG4BH51B                   0.0            0.0            0.0  \n",
      "A101NJYKW882Y0                   0.0            0.0            0.0  \n",
      "\n",
      "[5 rows x 4931 columns]\n"
     ]
    }
   ],
   "source": [
    "from sklearn.metrics.pairwise import cosine_similarity\n",
    "# Compute User-User Similarity Matrix\n",
    "user_similarity = cosine_similarity(pivot_table)\n",
    "# Convert to DataFrame for readability\n",
    "user_similarity_df = pd.DataFrame(user_similarity, index=pivot_table.index, columns=pivot_table.index)\n",
    "# Display sample similarity matrix\n",
    "print(user_similarity_df.head())"
   ]
  },
  {
   "cell_type": "code",
   "execution_count": 12,
   "metadata": {
    "colab": {
     "base_uri": "https://localhost:8080/"
    },
    "id": "PGpuYo6WI7Og",
    "outputId": "703a48cc-abac-4c9d-f30f-81ab6da3a0aa"
   },
   "outputs": [
    {
     "name": "stdout",
     "output_type": "stream",
     "text": [
      "ProductId   9746427962  9790778309  9790790961  B00004TMFE  B00004TUBL  \\\n",
      "ProductId                                                                \n",
      "9746427962         1.0         0.0         0.0         0.0         0.0   \n",
      "9790778309         0.0         1.0         0.0         0.0         0.0   \n",
      "9790790961         0.0         0.0         1.0         0.0         0.0   \n",
      "B00004TMFE         0.0         0.0         0.0         1.0         0.0   \n",
      "B00004TUBL         0.0         0.0         0.0         0.0         1.0   \n",
      "\n",
      "ProductId   B00004TUBV  B00004U9UY  B00004U9V2  B000050B6U  B000050B75  ...  \\\n",
      "ProductId                                                               ...   \n",
      "9746427962         0.0         0.0         0.0         0.0         0.0  ...   \n",
      "9790778309         0.0         0.0         0.0         0.0         0.0  ...   \n",
      "9790790961         0.0         0.0         0.0         0.0         0.0  ...   \n",
      "B00004TMFE         0.0         0.0         0.0         0.0         0.0  ...   \n",
      "B00004TUBL         0.0         0.0         0.0         0.0         0.0  ...   \n",
      "\n",
      "ProductId   B003H1HCIM  B003H25J86  B003H2MR2W  B003H3KLLA  B003H60F3G  \\\n",
      "ProductId                                                                \n",
      "9746427962         0.0         0.0         0.0         0.0         0.0   \n",
      "9790778309         0.0         0.0         0.0         0.0         0.0   \n",
      "9790790961         0.0         0.0         0.0         0.0         0.0   \n",
      "B00004TMFE         0.0         0.0         0.0         0.0         0.0   \n",
      "B00004TUBL         0.0         0.0         0.0         0.0         0.0   \n",
      "\n",
      "ProductId   B003H6C764  B003H8180I  B003H83U36  B003H87S0C  B003H897AQ  \n",
      "ProductId                                                               \n",
      "9746427962         0.0         0.0         0.0         0.0         0.0  \n",
      "9790778309         0.0         0.0         0.0         0.0         0.0  \n",
      "9790790961         0.0         0.0         0.0         0.0         0.0  \n",
      "B00004TMFE         0.0         0.0         0.0         0.0         0.0  \n",
      "B00004TUBL         0.0         0.0         0.0         0.0         0.0  \n",
      "\n",
      "[5 rows x 4627 columns]\n"
     ]
    }
   ],
   "source": [
    "# Compute Item-Item Similarity Matrix\n",
    "item_similarity = cosine_similarity(pivot_table.T)\n",
    "# Convert to DataFrame for readability\n",
    "item_similarity_df = pd.DataFrame(item_similarity, index=pivot_table.columns, columns=pivot_table.columns)\n",
    "# Display sample item similarity matrix\n",
    "print(item_similarity_df.head())"
   ]
  },
  {
   "cell_type": "code",
   "execution_count": 13,
   "metadata": {
    "colab": {
     "base_uri": "https://localhost:8080/"
    },
    "id": "cqRiQdW_I_6R",
    "outputId": "e6967b91-2c1c-4ba3-87fa-6ab23781eea6"
   },
   "outputs": [
    {
     "name": "stdout",
     "output_type": "stream",
     "text": [
      "Top similar users for User A02155413BVL8D0G7X6DN:\n",
      " UserId\n",
      "A14EGTIUFVIIS4    0.265837\n",
      "A25VUNGYCUFEN0    0.263846\n",
      "A3MPZJ19V4E34H    0.235639\n",
      "A3VPHOHZVHW9Y0    0.235639\n",
      "A9MTN0D260WAD     0.225161\n",
      "Name: A02155413BVL8D0G7X6DN, dtype: float64\n"
     ]
    }
   ],
   "source": [
    "def get_similar_users(user_id, top_n=5):\n",
    "    return user_similarity_df[user_id].sort_values(ascending=False).iloc[1:top_n+1]\n",
    "# Find top 5 similar users to a given user\n",
    "user_id = pivot_table.index[0]  # Replace with an actual user ID if needed\n",
    "print(f\"Top similar users for User {user_id}:\\n\", get_similar_users(user_id))"
   ]
  },
  {
   "cell_type": "code",
   "execution_count": 14,
   "metadata": {
    "colab": {
     "base_uri": "https://localhost:8080/"
    },
    "id": "iekuUcd1JGcS",
    "outputId": "48d7398c-c2fc-4bc3-b232-a087db1d102a"
   },
   "outputs": [
    {
     "name": "stdout",
     "output_type": "stream",
     "text": [
      "Top similar items for Product 9746427962:\n",
      " ProductId\n",
      "B00306CISI    0.370625\n",
      "B0002Z8SE8    0.338062\n",
      "B001G3VA22    0.292603\n",
      "B001KYO08S    0.273434\n",
      "B00397SNMS    0.263523\n",
      "Name: 9746427962, dtype: float64\n"
     ]
    }
   ],
   "source": [
    "def get_similar_items(product_id, top_n=5):\n",
    "    return item_similarity_df[product_id].sort_values(ascending=False).iloc[1:top_n+1]\n",
    "#Find top 5 similar products to a given product\n",
    "product_id = pivot_table.columns[0]  # Replace with an actual product ID if needed\n",
    "print(f\"Top similar items for Product {product_id}:\\n\", get_similar_items(product_id))"
   ]
  },
  {
   "cell_type": "code",
   "execution_count": 15,
   "metadata": {
    "colab": {
     "base_uri": "https://localhost:8080/"
    },
    "id": "HgOrSbloJLoX",
    "outputId": "730ecf36-55a3-4cdc-ad1a-258b6b95509c"
   },
   "outputs": [
    {
     "name": "stdout",
     "output_type": "stream",
     "text": [
      "Recommended products for User A02155413BVL8D0G7X6DN:\n",
      " ProductId\n",
      "B000142FVW    0.125152\n",
      "B000ZMBSPE    0.118864\n",
      "B00150LT40    0.084787\n",
      "B000TKH6G2    0.072819\n",
      "B001OMI93S    0.072617\n",
      "                ...   \n",
      "B001E96M94    0.000203\n",
      "B000GOVYE6    0.000203\n",
      "B000C1VXI0    0.000203\n",
      "B001AHUP34    0.000203\n",
      "B002J6YIC4    0.000000\n",
      "Length: 4627, dtype: float64\n"
     ]
    }
   ],
   "source": [
    "def recommend_products_for_user(user_id, top_n=5000):\n",
    "    similar_users = get_similar_users(user_id, top_n)\n",
    "    user_ratings = pivot_table.loc[similar_users.index].mean()\n",
    "    return user_ratings.sort_values(ascending=False).head(top_n)\n",
    "#Get recommended products for a user\n",
    "print(f\"Recommended products for User {user_id}:\\n\", recommend_products_for_user(user_id))"
   ]
  },
  {
   "cell_type": "code",
   "execution_count": 16,
   "metadata": {},
   "outputs": [
    {
     "name": "stdout",
     "output_type": "stream",
     "text": [
      "Top similar items for Product 9746427962:\n",
      " ProductId\n",
      "B00306CISI    0.370625\n",
      "B0002Z8SE8    0.338062\n",
      "B001G3VA22    0.292603\n",
      "B001KYO08S    0.273434\n",
      "B00397SNMS    0.263523\n",
      "                ...   \n",
      "B000NBBN1G    0.000000\n",
      "B000NB5AWY    0.000000\n",
      "B000NB3VOS    0.000000\n",
      "B000NB3VNO    0.000000\n",
      "B003H897AQ    0.000000\n",
      "Name: 9746427962, Length: 4626, dtype: float64\n"
     ]
    }
   ],
   "source": [
    "def get_similar_items(product_id, top_n=5000):\n",
    "    return item_similarity_df[product_id].sort_values(ascending=False).iloc[1:top_n+1]\n",
    "#Find top 5 similar products to a given product\n",
    "product_id = pivot_table.columns[0]  # Replace with an actual product ID if needed\n",
    "print(f\"Top similar items for Product {product_id}:\\n\", get_similar_items(product_id))"
   ]
  },
  {
   "cell_type": "code",
   "execution_count": 17,
   "metadata": {},
   "outputs": [
    {
     "name": "stdout",
     "output_type": "stream",
     "text": [
      "Recommended products for User A02155413BVL8D0G7X6DN:\n",
      " ProductId\n",
      "B002787ACO    2.0\n",
      "B001A6N5GE    1.0\n",
      "B003FO70Z6    1.0\n",
      "B002LE8OVA    1.0\n",
      "B000TW2JQC    1.0\n",
      "             ... \n",
      "B000NBIRII    0.0\n",
      "B000NBBN1G    0.0\n",
      "B000NB5AWY    0.0\n",
      "B000NB3VOS    0.0\n",
      "B003H897AQ    0.0\n",
      "Length: 4627, dtype: float64\n"
     ]
    }
   ],
   "source": [
    "def recommend_products_for_user(user_id):\n",
    "    similar_users = get_similar_users(user_id)\n",
    "    user_ratings = pivot_table.loc[similar_users.index].mean()\n",
    "    return user_ratings.sort_values(ascending=False)\n",
    "#Get recommended products for a user\n",
    "print(f\"Recommended products for User {user_id}:\\n\", recommend_products_for_user(user_id))"
   ]
  },
  {
   "cell_type": "code",
   "execution_count": 18,
   "metadata": {},
   "outputs": [
    {
     "name": "stdout",
     "output_type": "stream",
     "text": [
      "Recommended similar items for Product 9746427962:\n",
      " ProductId\n",
      "B00306CISI    0.370625\n",
      "B0002Z8SE8    0.338062\n",
      "B001G3VA22    0.292603\n",
      "B001KYO08S    0.273434\n",
      "B00397SNMS    0.263523\n",
      "                ...   \n",
      "B000NBBN1G    0.000000\n",
      "B000NB5AWY    0.000000\n",
      "B000NB3VOS    0.000000\n",
      "B000NB3VNO    0.000000\n",
      "B003H897AQ    0.000000\n",
      "Name: 9746427962, Length: 4626, dtype: float64\n"
     ]
    }
   ],
   "source": [
    "def recommend_similar_items(product_id):\n",
    "    return get_similar_items(product_id)\n",
    "#Get recommended similar items for a product\n",
    "print(f\"Recommended similar items for Product {product_id}:\\n\", recommend_similar_items(product_id))"
   ]
  },
  {
   "cell_type": "code",
   "execution_count": null,
   "metadata": {},
   "outputs": [],
   "source": []
  }
 ],
 "metadata": {
  "colab": {
   "provenance": []
  },
  "kernelspec": {
   "display_name": "Python [conda env:base] *",
   "language": "python",
   "name": "conda-base-py"
  },
  "language_info": {
   "codemirror_mode": {
    "name": "ipython",
    "version": 3
   },
   "file_extension": ".py",
   "mimetype": "text/x-python",
   "name": "python",
   "nbconvert_exporter": "python",
   "pygments_lexer": "ipython3",
   "version": "3.12.7"
  }
 },
 "nbformat": 4,
 "nbformat_minor": 4
}
